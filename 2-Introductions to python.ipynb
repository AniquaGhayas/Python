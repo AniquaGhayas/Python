{
 "cells": [
  {
   "cell_type": "markdown",
   "id": "7ded8d10-395c-4931-8d40-f4cdee985e66",
   "metadata": {},
   "source": [
    "# Topics:\n",
    "* Functions\n",
    "* Control statements\n",
    "* Object Oriented Programming"
   ]
  },
  {
   "cell_type": "markdown",
   "id": "12cbbcef-e0d2-4f27-b87a-910051d010e1",
   "metadata": {},
   "source": [
    "## Function to calculate the simple interest"
   ]
  },
  {
   "cell_type": "markdown",
   "id": "49f4764a-5697-4c60-8e8c-69bf57cccdbf",
   "metadata": {},
   "source": [
    "## Function with parameters"
   ]
  },
  {
   "cell_type": "code",
   "execution_count": 16,
   "id": "ee01e971-b096-4bf4-b69c-ff0237701983",
   "metadata": {},
   "outputs": [],
   "source": [
    "def simple_interest(principal, interest_rates, time_period):\n",
    "    si = principal*interest_rates*time_period/100\n",
    "    return si"
   ]
  },
  {
   "cell_type": "code",
   "execution_count": 2,
   "id": "521381e2-6d9d-45f9-bc2e-fab9505116b4",
   "metadata": {},
   "outputs": [
    {
     "name": "stdout",
     "output_type": "stream",
     "text": [
      "200.0\n"
     ]
    }
   ],
   "source": [
    "##method 1\n",
    "my_si = simple_interest(principal=1000, interest_rates=10,time_period=2)\n",
    "print(my_si)"
   ]
  },
  {
   "cell_type": "code",
   "execution_count": 3,
   "id": "0427201d-a6e1-4d4a-83b9-9900f4828f0c",
   "metadata": {},
   "outputs": [
    {
     "name": "stdout",
     "output_type": "stream",
     "text": [
      "200.0\n"
     ]
    }
   ],
   "source": [
    "##method 2\n",
    "my_si = simple_interest(1000, 10, 2)\n",
    "print(my_si)"
   ]
  },
  {
   "cell_type": "code",
   "execution_count": 7,
   "id": "ba844c5f-b0d1-4a5f-b0c5-62b6d33c0986",
   "metadata": {},
   "outputs": [
    {
     "name": "stdout",
     "output_type": "stream",
     "text": [
      "Hello, welcome to Python!\n"
     ]
    }
   ],
   "source": [
    "def greet():\n",
    "    print(\"Hello, welcome to Python!\")\n",
    "greet()"
   ]
  },
  {
   "cell_type": "code",
   "execution_count": 11,
   "id": "6f7ba080-6cae-4dc9-a29a-f7158ccbda22",
   "metadata": {},
   "outputs": [
    {
     "name": "stdout",
     "output_type": "stream",
     "text": [
      "Hello,Anny!\n"
     ]
    }
   ],
   "source": [
    "name = \"Anny\"\n",
    "def greet_user(name):\n",
    "    print(f\"Hello,{name}!\")\n",
    "greet_user(name)"
   ]
  },
  {
   "cell_type": "markdown",
   "id": "6eb227ff-afb7-4c9f-a812-d652deacc02a",
   "metadata": {},
   "source": [
    "## Default Parameters"
   ]
  },
  {
   "cell_type": "code",
   "execution_count": 1,
   "id": "f2abb65a-e266-4df5-8eff-3175634cece7",
   "metadata": {},
   "outputs": [],
   "source": [
    "def simple_interest_2(principal, time_period, interest_rates=10):       ##default parameter is defined at last\n",
    "    si = principal*interest_rates*time_period/100\n",
    "    return si"
   ]
  },
  {
   "cell_type": "code",
   "execution_count": 1,
   "id": "69b17e67-fb93-4ee5-8635-73d8293cd668",
   "metadata": {},
   "outputs": [],
   "source": [
    "def simple_interest_2(principal, time_period, interest_rates=10):       ##default parameter is defined at last\n",
    "    si = principal*interest_rates*time_period/100\n",
    "    return si"
   ]
  },
  {
   "cell_type": "code",
   "execution_count": 3,
   "id": "f12be94e-31d1-4391-8529-76ab99cfc34d",
   "metadata": {},
   "outputs": [],
   "source": [
    "s1 = simple_interest_2(1000, 2)   ##here interest rate is default and defined earlier, so we don't define it again\n",
    "                                  ##example for functions with multiple arguments "
   ]
  },
  {
   "cell_type": "code",
   "execution_count": 4,
   "id": "6c5e9efb-4645-47ee-afa3-dcd78978faed",
   "metadata": {},
   "outputs": [
    {
     "name": "stdout",
     "output_type": "stream",
     "text": [
      "200.0\n"
     ]
    }
   ],
   "source": [
    "print(s1)"
   ]
  },
  {
   "cell_type": "code",
   "execution_count": 5,
   "id": "aa2079fd-f53e-48cd-9214-1d3e3c29cd4a",
   "metadata": {},
   "outputs": [],
   "source": [
    "s2 = simple_interest_2(1000, 2, 25)  ##here if we want to change the value for interest_rates we redefine it and instead of default value it takes the redefined value which is 25 in this case  "
   ]
  },
  {
   "cell_type": "code",
   "execution_count": 6,
   "id": "f0ed76cb-d51b-4634-af45-7ece467e0b63",
   "metadata": {},
   "outputs": [
    {
     "name": "stdout",
     "output_type": "stream",
     "text": [
      "500.0\n"
     ]
    }
   ],
   "source": [
    "print(s2)"
   ]
  },
  {
   "cell_type": "markdown",
   "id": "6653b97a-e699-41d8-bf74-c2c698369c9d",
   "metadata": {},
   "source": [
    "## Function with multiple parameters"
   ]
  },
  {
   "cell_type": "markdown",
   "id": "f787650f-aae1-4b74-ba71-577f2fae4a82",
   "metadata": {},
   "source": [
    "## Function which returns a value"
   ]
  },
  {
   "cell_type": "code",
   "execution_count": 7,
   "id": "cd2e09fe-02ca-41b8-b2ab-6cc2bdc5a78c",
   "metadata": {},
   "outputs": [],
   "source": [
    "def add_numbers(a,b): \n",
    "    return a + b"
   ]
  },
  {
   "cell_type": "code",
   "execution_count": 8,
   "id": "83460168-bdaa-4d37-ba47-83ea2ae9e46f",
   "metadata": {},
   "outputs": [
    {
     "name": "stdout",
     "output_type": "stream",
     "text": [
      "Sum: 15\n"
     ]
    }
   ],
   "source": [
    "result = add_numbers(5,10)\n",
    "print(\"Sum:\", result)"
   ]
  },
  {
   "cell_type": "markdown",
   "id": "ec3b033f-9619-451e-8f29-81e525593a78",
   "metadata": {},
   "source": [
    "## Function with that returns a value"
   ]
  },
  {
   "cell_type": "code",
   "execution_count": 14,
   "id": "2ee7fdb6-a2c7-415a-a064-f1c1ddc919de",
   "metadata": {},
   "outputs": [],
   "source": [
    "def simple_interest_2(principal, time_period, interest_rates=10):     ##here instead of using return we use the print statement to print the parameters\n",
    "    si = principal*interest_rates*time_period/100                     ##previously we stored the value in si and returned it but now we aren't storing it we get the value whenever we call the function and the output is displayed without storing anything in the variable                     \n",
    "    print(f\"Simple interest for Principal=Rs.{principal}, Interest={interest_rates}% and time={time_period} yrs is {si}\")"
   ]
  },
  {
   "cell_type": "code",
   "execution_count": 15,
   "id": "b651bc85-da91-4e3e-85bd-3453583ec118",
   "metadata": {},
   "outputs": [
    {
     "name": "stdout",
     "output_type": "stream",
     "text": [
      "Simple interest for Principal=Rs.2000, Interest=15% and time=3 yrs is 900.0\n"
     ]
    }
   ],
   "source": [
    "simple_interest_2(2000,3,15)"
   ]
  },
  {
   "cell_type": "markdown",
   "id": "29381f7b-54c2-4675-ba8f-77435bb0f729",
   "metadata": {},
   "source": [
    "## Functions with variable length parameters\n",
    "## Functions with unlimited number of parameters"
   ]
  },
  {
   "cell_type": "code",
   "execution_count": 19,
   "id": "f0a40cc7-441b-4323-94c4-225d7d300b76",
   "metadata": {},
   "outputs": [],
   "source": [
    "def sum_calculator(*numbers):  ## * - like an array of list containg multiple values and can take any number of inputs \n",
    "    sum_value = sum(numbers)\n",
    "    print(f\"Sum of {numbers} is {sum_value}\")"
   ]
  },
  {
   "cell_type": "code",
   "execution_count": 20,
   "id": "92d24014-c5f3-471e-bcc2-f6e7bb7f521f",
   "metadata": {},
   "outputs": [
    {
     "name": "stdout",
     "output_type": "stream",
     "text": [
      "Sum of (1, 2, 3, 4, 5) is 15\n"
     ]
    }
   ],
   "source": [
    "sum_calculator(1,2,3,4,5)"
   ]
  },
  {
   "cell_type": "code",
   "execution_count": 21,
   "id": "9dd245e8-9f1a-4c31-8fcb-5b22a227b157",
   "metadata": {},
   "outputs": [
    {
     "name": "stdout",
     "output_type": "stream",
     "text": [
      "Sum of (1, 2, 3, 4, 5, 7, 197, 20) is 239\n"
     ]
    }
   ],
   "source": [
    "sum_calculator(1,2,3,4,5, 7, 197, 20)"
   ]
  },
  {
   "cell_type": "markdown",
   "id": "a17d7aca-40a5-4e01-b146-0bd26ba8eff9",
   "metadata": {},
   "source": [
    "## Function with multiple keyword type of arguments"
   ]
  },
  {
   "cell_type": "markdown",
   "id": "ac2303dd-8e19-41b9-94be-9ea21c5feaef",
   "metadata": {},
   "source": [
    "### Working with multiple key value pairs "
   ]
  },
  {
   "cell_type": "code",
   "execution_count": 22,
   "id": "afcba435-fe1d-4920-82c0-2c9c408b5c83",
   "metadata": {},
   "outputs": [],
   "source": [
    "def display_info(**keywords):                      ## ** -can take any number of key value pairs as inputs\n",
    "    for key, value in keywords.items():\n",
    "        print(f\"Value for {key} is {value}\")"
   ]
  },
  {
   "cell_type": "code",
   "execution_count": 23,
   "id": "f4fefdb5-baad-4952-9c34-3411311502e7",
   "metadata": {},
   "outputs": [
    {
     "name": "stdout",
     "output_type": "stream",
     "text": [
      "Value for name is Akash\n",
      "Value for city is Delhi\n"
     ]
    }
   ],
   "source": [
    "display_info(name=\"Akash\", city=\"Delhi\")"
   ]
  },
  {
   "cell_type": "markdown",
   "id": "50025d4c-0b99-41c2-8047-c0a012bd5a4a",
   "metadata": {},
   "source": [
    "## Lambda Functions(Anonymous functions)"
   ]
  },
  {
   "cell_type": "code",
   "execution_count": 7,
   "id": "8500f856-a541-4496-ad10-c7be0039d654",
   "metadata": {},
   "outputs": [],
   "source": [
    "##normal method\n",
    "def square(number):\n",
    "    return number**2"
   ]
  },
  {
   "cell_type": "code",
   "execution_count": 8,
   "id": "27215d90-2b93-46d0-97be-7d0532359e41",
   "metadata": {},
   "outputs": [
    {
     "data": {
      "text/plain": [
       "25"
      ]
     },
     "execution_count": 8,
     "metadata": {},
     "output_type": "execute_result"
    }
   ],
   "source": [
    "square(5)"
   ]
  },
  {
   "cell_type": "code",
   "execution_count": 9,
   "id": "b4d2ad05-7afc-484a-b33a-0a731f6036e4",
   "metadata": {},
   "outputs": [
    {
     "name": "stdout",
     "output_type": "stream",
     "text": [
      "25\n"
     ]
    }
   ],
   "source": [
    "##using lamda function\n",
    "square = lambda x:x*x\n",
    "print(square(5))"
   ]
  },
  {
   "cell_type": "code",
   "execution_count": 11,
   "id": "fde7881d-24fc-48d4-bd8a-d8058b873d65",
   "metadata": {},
   "outputs": [
    {
     "name": "stdout",
     "output_type": "stream",
     "text": [
      "10\n"
     ]
    }
   ],
   "source": [
    "add = lambda a, b: a+b          ##lambda arguments:expression\n",
    "print(add(3,7))                 ##used for short functions "
   ]
  },
  {
   "cell_type": "code",
   "execution_count": 12,
   "id": "bbf318a6-2d2a-405a-930d-3b0db2e031dd",
   "metadata": {},
   "outputs": [],
   "source": [
    "##simple interestusing lambda function\n",
    "simple_interest = lambda p, r, t: p*t*r/100"
   ]
  },
  {
   "cell_type": "code",
   "execution_count": 13,
   "id": "c4038e0c-88fe-4649-a91c-22fb1cd3ac62",
   "metadata": {},
   "outputs": [
    {
     "name": "stdout",
     "output_type": "stream",
     "text": [
      "600.0\n"
     ]
    }
   ],
   "source": [
    "print(simple_interest(2000,10,3))"
   ]
  },
  {
   "cell_type": "markdown",
   "id": "66870278-6afd-4263-8d63-514ab19a9140",
   "metadata": {},
   "source": [
    "## Dictionary of functions"
   ]
  },
  {
   "cell_type": "code",
   "execution_count": 14,
   "id": "b0bfec7b-e24c-440b-b4ed-03e3fb8a4f5f",
   "metadata": {},
   "outputs": [],
   "source": [
    "math_function_dic = {                               ##lambda functions can also be a part of key value pairs\n",
    "    \"si\":lambda p, r, t: p*r*t/100,                 ##this lambda function in dictionary could be utilized for complex functions too \n",
    "    \"add\":lambda a, b: a+b,\n",
    "}"
   ]
  },
  {
   "cell_type": "code",
   "execution_count": 15,
   "id": "7549f0d5-f4bf-4092-b515-3d947c82b9d4",
   "metadata": {},
   "outputs": [
    {
     "name": "stdout",
     "output_type": "stream",
     "text": [
      "600.0\n"
     ]
    }
   ],
   "source": [
    "print(math_function_dic[\"si\"](2000,10,3))         ##when we are defining the key, si over here, if we do not add \"\" it will be considered as a variable instead of key so it should be defined like a string  "
   ]
  },
  {
   "cell_type": "markdown",
   "id": "692f62ac-ac53-4ee6-b302-d00e056abc64",
   "metadata": {},
   "source": [
    "## Local and Global Variables"
   ]
  },
  {
   "cell_type": "code",
   "execution_count": 16,
   "id": "47635f3c-207e-45c8-ab88-1de2fc8530ff",
   "metadata": {},
   "outputs": [],
   "source": [
    "def check_num():\n",
    "    pi = 3.14                ##pi is defined inside the function so it is a local variable and cannot be accessed outside\n",
    "    print(pi)"
   ]
  },
  {
   "cell_type": "code",
   "execution_count": 17,
   "id": "8ef53c65-4f96-44f8-b34d-d1ec72f6afa7",
   "metadata": {},
   "outputs": [
    {
     "name": "stdout",
     "output_type": "stream",
     "text": [
      "3.14\n"
     ]
    }
   ],
   "source": [
    "check_num()"
   ]
  },
  {
   "cell_type": "code",
   "execution_count": 18,
   "id": "6c37e329-8a50-4a5e-a170-dd91354cd634",
   "metadata": {},
   "outputs": [
    {
     "ename": "NameError",
     "evalue": "name 'pi' is not defined",
     "output_type": "error",
     "traceback": [
      "\u001b[1;31m---------------------------------------------------------------------------\u001b[0m",
      "\u001b[1;31mNameError\u001b[0m                                 Traceback (most recent call last)",
      "Cell \u001b[1;32mIn[18], line 1\u001b[0m\n\u001b[1;32m----> 1\u001b[0m \u001b[38;5;28mprint\u001b[39m(pi)\n",
      "\u001b[1;31mNameError\u001b[0m: name 'pi' is not defined"
     ]
    }
   ],
   "source": [
    "print(pi)        ##here pi is not defined outside the function so it cannot be accessed directly"
   ]
  },
  {
   "cell_type": "code",
   "execution_count": 20,
   "id": "4b9efbaf-f21f-4264-a113-858fd3f197f9",
   "metadata": {},
   "outputs": [],
   "source": [
    "##Global variable\n",
    "pi = 3.14"
   ]
  },
  {
   "cell_type": "code",
   "execution_count": 22,
   "id": "a52a1a17-119a-4697-a0f8-f388d5fca760",
   "metadata": {},
   "outputs": [],
   "source": [
    "def num_print():                         ## in this case pi has been defined globally so it can be accessed anywhere in the program\n",
    "    print(pi)"
   ]
  },
  {
   "cell_type": "code",
   "execution_count": 23,
   "id": "624a26c7-aefe-48ac-8702-62c545bbe534",
   "metadata": {},
   "outputs": [
    {
     "name": "stdout",
     "output_type": "stream",
     "text": [
      "3.14\n"
     ]
    }
   ],
   "source": [
    "num_print()"
   ]
  },
  {
   "cell_type": "code",
   "execution_count": 24,
   "id": "99e831f5-815b-4717-a203-f054eeb2784c",
   "metadata": {},
   "outputs": [
    {
     "name": "stdout",
     "output_type": "stream",
     "text": [
      "3.14\n"
     ]
    }
   ],
   "source": [
    "print(pi)              ##pi can be defined in a function as well as through a statement as it was defined globally"
   ]
  },
  {
   "cell_type": "markdown",
   "id": "fb7e4aad-be7d-46c2-a2b0-0db8f321139b",
   "metadata": {},
   "source": [
    "## Recursive Function"
   ]
  },
  {
   "cell_type": "code",
   "execution_count": 30,
   "id": "5ad41c02-3cfd-49cb-8648-741306dbf77d",
   "metadata": {},
   "outputs": [],
   "source": [
    "def factorial(num):                     ##we also need to define an end statement so that we don't end up in an infinite loop causing a crash\n",
    "    if num == 1:\n",
    "        return num\n",
    "    else:\n",
    "        return num * factorial(num-1)"
   ]
  },
  {
   "cell_type": "code",
   "execution_count": 31,
   "id": "f44f52dd-16c7-4307-8c88-8f3e13d1bb17",
   "metadata": {},
   "outputs": [],
   "source": [
    "fact = factorial(6)"
   ]
  },
  {
   "cell_type": "code",
   "execution_count": 32,
   "id": "e72450a5-0328-403e-ad71-c2a631624381",
   "metadata": {},
   "outputs": [
    {
     "name": "stdout",
     "output_type": "stream",
     "text": [
      "720\n"
     ]
    }
   ],
   "source": [
    "print(fact)"
   ]
  },
  {
   "cell_type": "markdown",
   "id": "4f955adc-11e6-45dd-b08e-7e0f2a2a6016",
   "metadata": {},
   "source": [
    "## Control Statements"
   ]
  },
  {
   "cell_type": "markdown",
   "id": "c5da29b2-55dc-4b2f-9b15-2dd986c83809",
   "metadata": {},
   "source": [
    "### if statement "
   ]
  },
  {
   "cell_type": "code",
   "execution_count": 34,
   "id": "bd7b8ce5-5fb8-4744-a237-70de746dc81e",
   "metadata": {},
   "outputs": [
    {
     "name": "stdout",
     "output_type": "stream",
     "text": [
      "The person is an adult\n"
     ]
    }
   ],
   "source": [
    "age = 22\n",
    "if age>18:\n",
    "    print(\"The person is an adult\")"
   ]
  },
  {
   "cell_type": "markdown",
   "id": "87263e0c-2c30-4f00-b22f-142e9bdcf661",
   "metadata": {},
   "source": [
    "### Else statement"
   ]
  },
  {
   "cell_type": "code",
   "execution_count": 35,
   "id": "4a7592d4-df8a-4ea5-9d7d-460e8f8da047",
   "metadata": {},
   "outputs": [
    {
     "name": "stdout",
     "output_type": "stream",
     "text": [
      "The person is a minor\n"
     ]
    }
   ],
   "source": [
    "age =10\n",
    "if age>18:\n",
    "    print(\"The person is an adult\")\n",
    "else:\n",
    "    print(\"The person is a minor\")\n",
    "    "
   ]
  },
  {
   "cell_type": "markdown",
   "id": "d75f2ced-b6ff-48aa-b1cd-92f16eedf6d4",
   "metadata": {},
   "source": [
    "### Elif statement"
   ]
  },
  {
   "cell_type": "code",
   "execution_count": 36,
   "id": "198df649-2069-4fee-bd05-6c2a8d314129",
   "metadata": {},
   "outputs": [
    {
     "name": "stdout",
     "output_type": "stream",
     "text": [
      "Person is in school\n"
     ]
    }
   ],
   "source": [
    "## used when we have multiple conditions\n",
    "## if person is in school = 0-18, college = 18-22, or working>22\n",
    "\n",
    "age = 12\n",
    "if age>=0 and age<=18:\n",
    "    print(\"Person is in school\")\n",
    "elif age>18 and age<=22:\n",
    "    print(\"Person is in college\")\n",
    "else:\n",
    "    print(\"Person is working\")"
   ]
  },
  {
   "cell_type": "code",
   "execution_count": 37,
   "id": "acfc45fd-176b-485a-a7b2-8ec715f50f48",
   "metadata": {},
   "outputs": [
    {
     "name": "stdout",
     "output_type": "stream",
     "text": [
      "Person is in college\n"
     ]
    }
   ],
   "source": [
    "age = 20\n",
    "if age>=0 and age<=18:\n",
    "    print(\"Person is in school\")\n",
    "elif age>18 and age<=22:\n",
    "    print(\"Person is in college\")\n",
    "else:\n",
    "    print(\"Person is working\")"
   ]
  },
  {
   "cell_type": "code",
   "execution_count": 38,
   "id": "67cc9b4f-426a-4818-a21d-14e76278df34",
   "metadata": {},
   "outputs": [
    {
     "name": "stdout",
     "output_type": "stream",
     "text": [
      "Person is working\n"
     ]
    }
   ],
   "source": [
    "age = 24\n",
    "if age>=0 and age<=18:\n",
    "    print(\"Person is in school\")\n",
    "elif age>18 and age<=22:\n",
    "    print(\"Person is in college\")\n",
    "else:\n",
    "    print(\"Person is working\")"
   ]
  },
  {
   "cell_type": "markdown",
   "id": "f24867a4-63f4-4520-b17f-c041ebef5d34",
   "metadata": {},
   "source": [
    "## Switch Statements"
   ]
  },
  {
   "cell_type": "code",
   "execution_count": 40,
   "id": "65709781-79cf-45dc-8f8b-1e54c3da8b35",
   "metadata": {},
   "outputs": [],
   "source": [
    "##1 = \"red\", 2 = \"black\", 3=\"blue\", 4=\"white\"\n",
    "##switch statement does not exist in python so we either write multiple if else statements or follow the above number method to execute switch cases"
   ]
  },
  {
   "cell_type": "markdown",
   "id": "738584d5-04fd-41b6-bc79-c5fb44d3e249",
   "metadata": {},
   "source": [
    "## looping  statements              \n",
    "#### two types:\n",
    "* for loop"
   ]
  },
  {
   "cell_type": "code",
   "execution_count": 41,
   "id": "b8be9448-b94a-4b5b-9dfa-aad161a02c59",
   "metadata": {},
   "outputs": [
    {
     "name": "stdout",
     "output_type": "stream",
     "text": [
      "Apples\n",
      "Oranges\n",
      "Mangoes\n"
     ]
    }
   ],
   "source": [
    "for i in [\"Apples\",\"Oranges\",\"Mangoes\"]:\n",
    "    print(i)"
   ]
  },
  {
   "cell_type": "code",
   "execution_count": 42,
   "id": "5d7d7504-f861-44cb-8e64-1dc345ab99bc",
   "metadata": {},
   "outputs": [
    {
     "name": "stdout",
     "output_type": "stream",
     "text": [
      "0\n",
      "1\n",
      "2\n",
      "3\n",
      "4\n",
      "5\n",
      "6\n",
      "7\n",
      "8\n",
      "9\n"
     ]
    }
   ],
   "source": [
    "for i in range(10):\n",
    "    print(i)"
   ]
  },
  {
   "cell_type": "markdown",
   "id": "53de6e7b-5d04-4680-922e-c301ca4193ae",
   "metadata": {},
   "source": [
    "## While Loop"
   ]
  },
  {
   "cell_type": "code",
   "execution_count": 43,
   "id": "ec177d92-3827-409a-831f-bc2f1114440b",
   "metadata": {},
   "outputs": [
    {
     "name": "stdout",
     "output_type": "stream",
     "text": [
      "1\n",
      "2\n",
      "3\n",
      "4\n",
      "5\n"
     ]
    }
   ],
   "source": [
    "num = 1\n",
    "while num<=5:\n",
    "    print(num)\n",
    "    num+=1"
   ]
  },
  {
   "cell_type": "markdown",
   "id": "fc6c8347-d580-4db4-8702-0dfd41f967de",
   "metadata": {},
   "source": [
    "## Break and Continue keywords"
   ]
  },
  {
   "cell_type": "code",
   "execution_count": 46,
   "id": "e68c8156-d89a-4a02-80eb-e5e0fe1ca570",
   "metadata": {},
   "outputs": [
    {
     "name": "stdout",
     "output_type": "stream",
     "text": [
      "0\n",
      "1\n",
      "2\n",
      "3\n",
      "4\n",
      "5\n"
     ]
    }
   ],
   "source": [
    "for i in range(10):\n",
    "    if i == 6:\n",
    "        break;\n",
    "    print(i)"
   ]
  },
  {
   "cell_type": "code",
   "execution_count": 47,
   "id": "06db2dbf-4223-4094-8b03-cb58f57f1809",
   "metadata": {},
   "outputs": [
    {
     "name": "stdout",
     "output_type": "stream",
     "text": [
      "0\n",
      "1\n",
      "2\n",
      "3\n",
      "4\n",
      "5\n",
      "6\n",
      "8\n",
      "9\n"
     ]
    }
   ],
   "source": [
    "for i in range(10):\n",
    "    if i==7:\n",
    "        continue               ##comes to 7 the continue statement is at work and goes back to the iterstor and continues printing the rest of the numbers leaving 7\n",
    "    print(i)"
   ]
  },
  {
   "cell_type": "markdown",
   "id": "9d9cd78c-8dc7-4ee2-ae69-d5c5953a5e26",
   "metadata": {},
   "source": [
    "## Defining a class, object and its properties"
   ]
  },
  {
   "cell_type": "code",
   "execution_count": 12,
   "id": "c7840167-cddb-4733-8801-c1d88f21b6eb",
   "metadata": {},
   "outputs": [],
   "source": [
    "##Person(entity) => properties associated\n",
    "## name, age, location, employment status \n",
    "## if a person is minor or not based on his age \n",
    "##creating a class\n",
    "class Person:                                                         ##class classname:\n",
    "    def __init__(self, name, age, location, employment):                   ##def __init__(self, parameter1, parameter2, parameter3) \n",
    "        self.name = name                                                         ##self.attribute1=parameter1    \n",
    "        self.age = age                                                           ##self.attribute2=parameter2\n",
    "        self.location = location                                                 ##self.attribute3=parameter3\n",
    "        self.employment = employment                                 ##method \n",
    "                                                                          ##def method_name(self): \n",
    "    def if_minor(self):                                                         ##return self.attribute1\n",
    "        if self.age>=0 and self.age<=18:\n",
    "            print(\"Person is a minor\")\n",
    "        else:\n",
    "            print(\"Person is not a minor\")"
   ]
  },
  {
   "cell_type": "code",
   "execution_count": 13,
   "id": "dd529b52-bb31-462d-a226-81b3726b302a",
   "metadata": {},
   "outputs": [],
   "source": [
    "##object instance\n",
    "p1 = Person(\"Ramesh\",10,\"Kanpur\",\"Unemployed\")                  ##object name = classname(attribute1, attribute2, attribute3)"
   ]
  },
  {
   "cell_type": "code",
   "execution_count": 14,
   "id": "e0a39aee-e8db-4956-a853-d085dd4e66e5",
   "metadata": {},
   "outputs": [
    {
     "name": "stdout",
     "output_type": "stream",
     "text": [
      "Ramesh\n"
     ]
    }
   ],
   "source": [
    "print(p1.name)"
   ]
  },
  {
   "cell_type": "code",
   "execution_count": 17,
   "id": "d28a338e-5a56-4eac-ac32-8bc65686e332",
   "metadata": {},
   "outputs": [
    {
     "name": "stdout",
     "output_type": "stream",
     "text": [
      "Person is a minor\n"
     ]
    }
   ],
   "source": [
    "p1.if_minor()"
   ]
  },
  {
   "cell_type": "code",
   "execution_count": 34,
   "id": "0102dda2-2c16-42e0-adc1-c07d504b7a63",
   "metadata": {},
   "outputs": [],
   "source": [
    "class Car:\n",
    "    def __init__(self, brand, model, year):\n",
    "        self.brand=brand\n",
    "        self.model=model\n",
    "        self.year=year\n",
    "\n",
    "    def display_info(self):\n",
    "        return  f\"{self.year} {self.brand} {self.model}\""
   ]
  },
  {
   "cell_type": "code",
   "execution_count": 35,
   "id": "dbb50c63-8001-48fc-a4c7-5cad5993dc39",
   "metadata": {},
   "outputs": [],
   "source": [
    "car1 = Car(\"Toyota\", \"Corolla\", 2022)"
   ]
  },
  {
   "cell_type": "code",
   "execution_count": 36,
   "id": "1d410436-d263-4e56-8265-06f49125c22f",
   "metadata": {},
   "outputs": [
    {
     "name": "stdout",
     "output_type": "stream",
     "text": [
      "2022 Toyota Corolla\n"
     ]
    }
   ],
   "source": [
    "print(car1.display_info())"
   ]
  },
  {
   "cell_type": "markdown",
   "id": "4b03f301-5dbb-4163-87cd-6e92f3e4198e",
   "metadata": {},
   "source": [
    "## Encapsulation"
   ]
  },
  {
   "cell_type": "code",
   "execution_count": 53,
   "id": "14fd363d-f00a-427c-a9a1-16e9dbd8cf41",
   "metadata": {},
   "outputs": [],
   "source": [
    "##using a private variable\n",
    "\n",
    "class BankAccount:\n",
    "    def __init__(self, account_num):\n",
    "        self.account_num = account_num\n",
    "        self.__balance = 1000\n",
    "    def deposit(self, new_amount):\n",
    "        self.__balance = self.__balance + new_amount\n",
    "    def show_balance(self):\n",
    "        print(f\"Balance for account num {self.account_num} is Rs. {self.__balance}\")"
   ]
  },
  {
   "cell_type": "code",
   "execution_count": 54,
   "id": "0534d4ed-84c7-4799-ba23-aab49f7c108a",
   "metadata": {},
   "outputs": [],
   "source": [
    "account1 = BankAccount(account_num=\"12345\")"
   ]
  },
  {
   "cell_type": "code",
   "execution_count": 55,
   "id": "6dfaad9f-b8e2-4cd1-a15b-23102742cd65",
   "metadata": {},
   "outputs": [
    {
     "name": "stdout",
     "output_type": "stream",
     "text": [
      "12345\n"
     ]
    }
   ],
   "source": [
    "print(account1.account_num)          ##public variable: can be accessed from anywhere"
   ]
  },
  {
   "cell_type": "code",
   "execution_count": 56,
   "id": "d0e09b34-6625-4258-9724-bf25cf239fa1",
   "metadata": {},
   "outputs": [
    {
     "ename": "AttributeError",
     "evalue": "'BankAccount' object has no attribute '__balance'",
     "output_type": "error",
     "traceback": [
      "\u001b[1;31m---------------------------------------------------------------------------\u001b[0m",
      "\u001b[1;31mAttributeError\u001b[0m                            Traceback (most recent call last)",
      "Cell \u001b[1;32mIn[56], line 1\u001b[0m\n\u001b[1;32m----> 1\u001b[0m \u001b[38;5;28mprint\u001b[39m(account1\u001b[38;5;241m.\u001b[39m__balance)\n",
      "\u001b[1;31mAttributeError\u001b[0m: 'BankAccount' object has no attribute '__balance'"
     ]
    }
   ],
   "source": [
    "print(account1.__balance)              ##private variable: cannot be accessed directly outside the class"
   ]
  },
  {
   "cell_type": "code",
   "execution_count": 57,
   "id": "799670fa-0b89-4230-8edf-7e23479071b6",
   "metadata": {},
   "outputs": [
    {
     "name": "stdout",
     "output_type": "stream",
     "text": [
      "Balance for account num 12345 is Rs. 1000\n"
     ]
    }
   ],
   "source": [
    "account1.show_balance()"
   ]
  },
  {
   "cell_type": "code",
   "execution_count": 58,
   "id": "5782227b-a438-45e0-8fcd-a9608becb9b3",
   "metadata": {},
   "outputs": [],
   "source": [
    "account1.deposit(1000)"
   ]
  },
  {
   "cell_type": "code",
   "execution_count": 59,
   "id": "ad061fa6-3b1d-4b13-9ce1-c1906c5f9369",
   "metadata": {},
   "outputs": [
    {
     "name": "stdout",
     "output_type": "stream",
     "text": [
      "Balance for account num 12345 is Rs. 2000\n"
     ]
    }
   ],
   "source": [
    "account1.show_balance()"
   ]
  }
 ],
 "metadata": {
  "kernelspec": {
   "display_name": "Python 3 (ipykernel)",
   "language": "python",
   "name": "python3"
  },
  "language_info": {
   "codemirror_mode": {
    "name": "ipython",
    "version": 3
   },
   "file_extension": ".py",
   "mimetype": "text/x-python",
   "name": "python",
   "nbconvert_exporter": "python",
   "pygments_lexer": "ipython3",
   "version": "3.13.5"
  }
 },
 "nbformat": 4,
 "nbformat_minor": 5
}
