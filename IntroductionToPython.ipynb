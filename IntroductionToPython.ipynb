{
 "cells": [
  {
   "cell_type": "markdown",
   "id": "ed1c00c4-59e4-4bb6-ac02-9c0efaab567b",
   "metadata": {},
   "source": [
    "# IntroductionToPython\n",
    "## Heading 1\n",
    "### Heading 2\n"
   ]
  },
  {
   "cell_type": "markdown",
   "id": "1248eb53-2229-40dc-8089-b620bd114445",
   "metadata": {},
   "source": [
    "**bold text**"
   ]
  },
  {
   "cell_type": "markdown",
   "id": "48e71821-96ee-4d28-ae85-5a7bd1fb9504",
   "metadata": {},
   "source": [
    "*italics*"
   ]
  },
  {
   "cell_type": "markdown",
   "id": "7773f347-537d-4635-a7f4-228944f74bfd",
   "metadata": {},
   "source": [
    "# Data types in python #\n",
    "## Numeric Data types"
   ]
  },
  {
   "cell_type": "markdown",
   "id": "b6d50e14-0dd6-4854-891b-3554b3d434d6",
   "metadata": {},
   "source": [
    "* Int\n",
    "* Float\n",
    "* String"
   ]
  },
  {
   "cell_type": "markdown",
   "id": "1e48f775-d085-4e58-8026-652fe5760aba",
   "metadata": {},
   "source": [
    "## working with numerical data points"
   ]
  },
  {
   "cell_type": "code",
   "execution_count": 13,
   "id": "9dbe14fc-afe8-4059-82aa-536db53c85a6",
   "metadata": {},
   "outputs": [
    {
     "data": {
      "text/plain": [
       "int"
      ]
     },
     "execution_count": 13,
     "metadata": {},
     "output_type": "execute_result"
    }
   ],
   "source": [
    "no = 124\n",
    "decimal_value=24.2949\n",
    "type(no)"
   ]
  },
  {
   "cell_type": "code",
   "execution_count": 14,
   "id": "1814d9d6-8b62-4723-936b-33fba49f93f7",
   "metadata": {},
   "outputs": [
    {
     "data": {
      "text/plain": [
       "float"
      ]
     },
     "execution_count": 14,
     "metadata": {},
     "output_type": "execute_result"
    }
   ],
   "source": [
    "type(decimal_value)"
   ]
  },
  {
   "cell_type": "code",
   "execution_count": 1,
   "id": "1cb3cc41-dcf5-4f6e-86fd-7a2cf9e04f19",
   "metadata": {},
   "outputs": [
    {
     "name": "stdout",
     "output_type": "stream",
     "text": [
      "Anny\n"
     ]
    }
   ],
   "source": [
    "name = \"Anny\"\n",
    "print(name)"
   ]
  },
  {
   "cell_type": "code",
   "execution_count": 5,
   "id": "1e8d1b51-8357-4706-949d-9dd422de85ea",
   "metadata": {},
   "outputs": [
    {
     "name": "stdout",
     "output_type": "stream",
     "text": [
      "3.14\n"
     ]
    }
   ],
   "source": [
    "a = 3.14\n",
    "print(a)"
   ]
  },
  {
   "cell_type": "code",
   "execution_count": 6,
   "id": "e99ae7ad-c014-4710-b313-68961e1250ff",
   "metadata": {},
   "outputs": [
    {
     "data": {
      "text/plain": [
       "str"
      ]
     },
     "execution_count": 6,
     "metadata": {},
     "output_type": "execute_result"
    }
   ],
   "source": [
    "x = \"1254\"\n",
    "type(x)"
   ]
  },
  {
   "cell_type": "code",
   "execution_count": 7,
   "id": "4b4a1fa3-ef9b-446e-bef2-6182188450d8",
   "metadata": {},
   "outputs": [
    {
     "data": {
      "text/plain": [
       "str"
      ]
     },
     "execution_count": 7,
     "metadata": {},
     "output_type": "execute_result"
    }
   ],
   "source": [
    "x=\"Pankaj\"\n",
    "type(x)"
   ]
  },
  {
   "cell_type": "code",
   "execution_count": 8,
   "id": "1e103e0d-f85d-482c-867b-b530c4028981",
   "metadata": {},
   "outputs": [
    {
     "data": {
      "text/plain": [
       "float"
      ]
     },
     "execution_count": 8,
     "metadata": {},
     "output_type": "execute_result"
    }
   ],
   "source": [
    "x=5.28\n",
    "type(x)"
   ]
  },
  {
   "cell_type": "code",
   "execution_count": 1,
   "id": "c3a99432-8622-4f06-b6de-e98139ecb698",
   "metadata": {},
   "outputs": [
    {
     "name": "stdout",
     "output_type": "stream",
     "text": [
      "a\n"
     ]
    }
   ],
   "source": [
    "print(\"a\")"
   ]
  },
  {
   "cell_type": "code",
   "execution_count": 5,
   "id": "3e8b31b6-1d83-441f-ac5b-3a7b49797462",
   "metadata": {},
   "outputs": [
    {
     "name": "stdout",
     "output_type": "stream",
     "text": [
      "Anny\n"
     ]
    }
   ],
   "source": [
    "print(\"Anny\");"
   ]
  },
  {
   "cell_type": "code",
   "execution_count": 7,
   "id": "6ce242cc-b8ef-4519-bdf2-19f7645005f5",
   "metadata": {},
   "outputs": [
    {
     "name": "stdout",
     "output_type": "stream",
     "text": [
      "Hiiii\n"
     ]
    }
   ],
   "source": [
    "print(\"Hiiii\")"
   ]
  },
  {
   "cell_type": "code",
   "execution_count": 11,
   "id": "4963cac6-fd00-4bc9-a1f8-971969001b0e",
   "metadata": {},
   "outputs": [
    {
     "name": "stdout",
     "output_type": "stream",
     "text": [
      "hello world\n"
     ]
    }
   ],
   "source": [
    "print(\"hello world\")"
   ]
  },
  {
   "cell_type": "code",
   "execution_count": 10,
   "id": "768d2af9-00ce-4124-b1df-13e433de0135",
   "metadata": {},
   "outputs": [
    {
     "ename": "SyntaxError",
     "evalue": "Missing parentheses in call to 'print'. Did you mean print(...)? (873703012.py, line 1)",
     "output_type": "error",
     "traceback": [
      "\u001b[1;36m  Cell \u001b[1;32mIn[10], line 1\u001b[1;36m\u001b[0m\n\u001b[1;33m    print{\"Hello World\"}\u001b[0m\n\u001b[1;37m    ^\u001b[0m\n\u001b[1;31mSyntaxError\u001b[0m\u001b[1;31m:\u001b[0m Missing parentheses in call to 'print'. Did you mean print(...)?\n"
     ]
    }
   ],
   "source": [
    "print{\"Hello World\"}"
   ]
  },
  {
   "cell_type": "code",
   "execution_count": 3,
   "id": "9a3198f8-dc87-4550-b06e-4167b688c81a",
   "metadata": {},
   "outputs": [
    {
     "name": "stdout",
     "output_type": "stream",
     "text": [
      "Hello World\n"
     ]
    }
   ],
   "source": [
    "print(\"Hello World\")"
   ]
  },
  {
   "cell_type": "code",
   "execution_count": 15,
   "id": "5eae2455-0204-4ea9-b77e-a384c6e768ab",
   "metadata": {},
   "outputs": [
    {
     "data": {
      "text/plain": [
       "str"
      ]
     },
     "execution_count": 15,
     "metadata": {},
     "output_type": "execute_result"
    }
   ],
   "source": [
    " name = \"Introduction to python\"\n",
    "index = [0,1,...........l-1]\n",
    "type(name)"
   ]
  },
  {
   "cell_type": "code",
   "execution_count": 16,
   "id": "568a3f78-e996-4f75-ab12-4c5e406b75a9",
   "metadata": {},
   "outputs": [
    {
     "name": "stdout",
     "output_type": "stream",
     "text": [
      "o\n"
     ]
    }
   ],
   "source": [
    "print(name[4])"
   ]
  },
  {
   "cell_type": "code",
   "execution_count": 17,
   "id": "81652476-c811-4235-b90d-53f7c7e190f7",
   "metadata": {},
   "outputs": [
    {
     "name": "stdout",
     "output_type": "stream",
     "text": [
      "n\n"
     ]
    }
   ],
   "source": [
    "print(name[-1])"
   ]
  },
  {
   "cell_type": "code",
   "execution_count": 19,
   "id": "fe6a264d-06ec-4173-ac48-d13d40b0c6e0",
   "metadata": {},
   "outputs": [
    {
     "name": "stdout",
     "output_type": "stream",
     "text": [
      "oducti\n"
     ]
    }
   ],
   "source": [
    "print(name[4:10])"
   ]
  },
  {
   "cell_type": "markdown",
   "id": "f00ed392-9e8d-4291-8c84-374de37088d6",
   "metadata": {},
   "source": [
    "## Accessing a subset of a string\n",
    "* variable_name[first_index:last_index]"
   ]
  },
  {
   "cell_type": "code",
   "execution_count": 20,
   "id": "f7f2e743-2692-469d-8f96-460eab3933c3",
   "metadata": {},
   "outputs": [
    {
     "name": "stdout",
     "output_type": "stream",
     "text": [
      "troducti\n"
     ]
    }
   ],
   "source": [
    "print(name[2:10])"
   ]
  },
  {
   "cell_type": "code",
   "execution_count": 21,
   "id": "fff8e623-57e6-43e6-9607-453bb42dc89b",
   "metadata": {},
   "outputs": [
    {
     "name": "stdout",
     "output_type": "stream",
     "text": [
      "Introducti\n"
     ]
    }
   ],
   "source": [
    "print(name[:10])"
   ]
  },
  {
   "cell_type": "code",
   "execution_count": 22,
   "id": "769c69b6-80f1-44d1-bc63-debfde56f06b",
   "metadata": {},
   "outputs": [
    {
     "name": "stdout",
     "output_type": "stream",
     "text": [
      "Introduction to python\n"
     ]
    }
   ],
   "source": [
    "print(name[:])"
   ]
  },
  {
   "cell_type": "markdown",
   "id": "31e8ff85-3e7f-4811-b7d9-1d408a713503",
   "metadata": {},
   "source": [
    "## String operations "
   ]
  },
  {
   "cell_type": "code",
   "execution_count": 23,
   "id": "292bff6d-1ea0-4c51-a811-a084063c905a",
   "metadata": {},
   "outputs": [
    {
     "name": "stdout",
     "output_type": "stream",
     "text": [
      "INTRODUCTION TO PYTHON\n"
     ]
    }
   ],
   "source": [
    "print(name.upper())"
   ]
  },
  {
   "cell_type": "code",
   "execution_count": 24,
   "id": "101c6cc4-a737-4382-8100-dcd164ef3341",
   "metadata": {},
   "outputs": [
    {
     "name": "stdout",
     "output_type": "stream",
     "text": [
      "introduction to python\n"
     ]
    }
   ],
   "source": [
    "print(name.lower())"
   ]
  },
  {
   "cell_type": "markdown",
   "id": "8533c3db-4e21-45dd-a7e5-c02145dc4311",
   "metadata": {},
   "source": [
    "## accessing the numbers from start"
   ]
  },
  {
   "cell_type": "code",
   "execution_count": 26,
   "id": "ca336d6c-aca7-468e-9a6e-6b9ac03d42bc",
   "metadata": {},
   "outputs": [
    {
     "data": {
      "text/plain": [
       "'I'"
      ]
     },
     "execution_count": 26,
     "metadata": {},
     "output_type": "execute_result"
    }
   ],
   "source": [
    "name[0]"
   ]
  },
  {
   "cell_type": "code",
   "execution_count": 27,
   "id": "e6a6b2df-9a76-4cd2-a920-1dcbb09e4363",
   "metadata": {},
   "outputs": [
    {
     "data": {
      "text/plain": [
       "'n'"
      ]
     },
     "execution_count": 27,
     "metadata": {},
     "output_type": "execute_result"
    }
   ],
   "source": [
    "name[-1]"
   ]
  },
  {
   "cell_type": "code",
   "execution_count": 28,
   "id": "85a529da-9fc5-476a-860f-8c7703252d33",
   "metadata": {},
   "outputs": [
    {
     "data": {
      "text/plain": [
       "'o'"
      ]
     },
     "execution_count": 28,
     "metadata": {},
     "output_type": "execute_result"
    }
   ],
   "source": [
    "name[-2]"
   ]
  },
  {
   "cell_type": "code",
   "execution_count": 30,
   "id": "d4c1e780-8de5-48b2-af96-e4d36abc75d2",
   "metadata": {},
   "outputs": [
    {
     "name": "stdout",
     "output_type": "stream",
     "text": [
      "pyThon\n"
     ]
    }
   ],
   "source": [
    "text_alphabet = \"pyThon\"\n",
    "print(text_alphabet)"
   ]
  },
  {
   "cell_type": "code",
   "execution_count": 32,
   "id": "6f0a47d9-a256-4e19-ba1a-fe03cfa2fac3",
   "metadata": {},
   "outputs": [
    {
     "name": "stdout",
     "output_type": "stream",
     "text": [
      "python\n"
     ]
    }
   ],
   "source": [
    "print(text_alphabet.lower())"
   ]
  },
  {
   "cell_type": "code",
   "execution_count": 33,
   "id": "09e69a3a-f7a5-4742-8cdf-66629732175b",
   "metadata": {},
   "outputs": [
    {
     "name": "stdout",
     "output_type": "stream",
     "text": [
      "PYTHON\n"
     ]
    }
   ],
   "source": [
    "print(text_alphabet.upper())"
   ]
  },
  {
   "cell_type": "code",
   "execution_count": 34,
   "id": "092d0ebe-eb90-4a78-9569-08b53e6ce310",
   "metadata": {},
   "outputs": [
    {
     "name": "stdout",
     "output_type": "stream",
     "text": [
      "p\n"
     ]
    }
   ],
   "source": [
    "print(text_alphabet[0])"
   ]
  },
  {
   "cell_type": "code",
   "execution_count": 35,
   "id": "253dbb1b-55ad-4217-8fa1-0dd147fa0aca",
   "metadata": {},
   "outputs": [
    {
     "name": "stdout",
     "output_type": "stream",
     "text": [
      "yTh\n"
     ]
    }
   ],
   "source": [
    "print(text_alphabet[1:4])"
   ]
  },
  {
   "cell_type": "code",
   "execution_count": 36,
   "id": "fa8e3d46-4f46-44c8-b952-50d4aa3d0715",
   "metadata": {},
   "outputs": [
    {
     "name": "stdout",
     "output_type": "stream",
     "text": [
      "n\n"
     ]
    }
   ],
   "source": [
    "print(text_alphabet[-1])"
   ]
  },
  {
   "cell_type": "markdown",
   "id": "844d6b5a-530b-44fb-b949-c98f22472948",
   "metadata": {},
   "source": [
    "## Sequence data types"
   ]
  },
  {
   "cell_type": "markdown",
   "id": "ae8cc5c4-c8f2-420d-bfa6-108d5b8c0882",
   "metadata": {},
   "source": [
    "### working with the List Data types"
   ]
  },
  {
   "cell_type": "markdown",
   "id": "29b48f48-780d-4bbf-894c-5f7a32a8ade3",
   "metadata": {},
   "source": [
    "* List\n",
    "* Tuples\n",
    "* Sets"
   ]
  },
  {
   "cell_type": "markdown",
   "id": "7adfd22f-0ffd-4833-a1e7-a72abe8b7302",
   "metadata": {},
   "source": [
    "## Accessing the values\n",
    "### List "
   ]
  },
  {
   "cell_type": "code",
   "execution_count": 38,
   "id": "cec02fc7-cd36-43d1-ab9a-06192f33de26",
   "metadata": {},
   "outputs": [
    {
     "data": {
      "text/plain": [
       "2988798"
      ]
     },
     "execution_count": 38,
     "metadata": {},
     "output_type": "execute_result"
    }
   ],
   "source": [
    "num_array = [10, 20, 30, 2988798, 765767]\n",
    "num_array[3]"
   ]
  },
  {
   "cell_type": "code",
   "execution_count": 42,
   "id": "16c6a670-d5a7-425a-a299-c3a8c2f2ad06",
   "metadata": {},
   "outputs": [],
   "source": [
    "num_array.append(241)      #adds a number at last"
   ]
  },
  {
   "cell_type": "code",
   "execution_count": 40,
   "id": "1a3b70e3-d2be-42c0-a186-f625288fe18d",
   "metadata": {},
   "outputs": [
    {
     "name": "stdout",
     "output_type": "stream",
     "text": [
      "[10, 20, 30, 2988798, 765767, 241]\n"
     ]
    }
   ],
   "source": [
    "print(num_array)"
   ]
  },
  {
   "cell_type": "code",
   "execution_count": 43,
   "id": "c5ba64e3-7a89-4f74-9c5f-dd70acc0bdfa",
   "metadata": {},
   "outputs": [
    {
     "data": {
      "text/plain": [
       "241"
      ]
     },
     "execution_count": 43,
     "metadata": {},
     "output_type": "execute_result"
    }
   ],
   "source": [
    "#removes from the last index\n",
    "num_array.pop()"
   ]
  },
  {
   "cell_type": "code",
   "execution_count": 45,
   "id": "a4d7b3eb-68bb-4089-a233-033bf43af499",
   "metadata": {},
   "outputs": [
    {
     "data": {
      "text/plain": [
       "241"
      ]
     },
     "execution_count": 45,
     "metadata": {},
     "output_type": "execute_result"
    }
   ],
   "source": [
    "num_array.pop()"
   ]
  },
  {
   "cell_type": "code",
   "execution_count": 46,
   "id": "5f9254ac-5971-4947-a881-b9e094eaaec0",
   "metadata": {},
   "outputs": [
    {
     "data": {
      "text/plain": [
       "765767"
      ]
     },
     "execution_count": 46,
     "metadata": {},
     "output_type": "execute_result"
    }
   ],
   "source": [
    "num_array.pop()"
   ]
  },
  {
   "cell_type": "code",
   "execution_count": 47,
   "id": "325bf9dd-ce2e-4e32-84ef-fe2eb578a221",
   "metadata": {},
   "outputs": [
    {
     "data": {
      "text/plain": [
       "2988798"
      ]
     },
     "execution_count": 47,
     "metadata": {},
     "output_type": "execute_result"
    }
   ],
   "source": [
    "num_array.pop()"
   ]
  },
  {
   "cell_type": "code",
   "execution_count": 48,
   "id": "ed7be7b4-12f3-4cf0-945c-929952df3c1d",
   "metadata": {},
   "outputs": [
    {
     "name": "stdout",
     "output_type": "stream",
     "text": [
      "[10, 20, 30]\n"
     ]
    }
   ],
   "source": [
    "print(num_array)"
   ]
  },
  {
   "cell_type": "code",
   "execution_count": 49,
   "id": "5e8be138-817c-4dea-9f0e-7bc85039824e",
   "metadata": {},
   "outputs": [],
   "source": [
    "alpha_num = [10, \"Name\", [1,2]]"
   ]
  },
  {
   "cell_type": "code",
   "execution_count": 50,
   "id": "9b2a5de1-5eac-4830-8d09-dcba9c4e1fef",
   "metadata": {},
   "outputs": [
    {
     "name": "stdout",
     "output_type": "stream",
     "text": [
      "[10, 'Name', [1, 2]]\n"
     ]
    }
   ],
   "source": [
    "print(alpha_num)"
   ]
  },
  {
   "cell_type": "code",
   "execution_count": 51,
   "id": "e6966116-f676-4b83-be95-28a4ceeba19c",
   "metadata": {},
   "outputs": [
    {
     "data": {
      "text/plain": [
       "list"
      ]
     },
     "execution_count": 51,
     "metadata": {},
     "output_type": "execute_result"
    }
   ],
   "source": [
    "type(alpha_num)"
   ]
  },
  {
   "cell_type": "code",
   "execution_count": 52,
   "id": "f9e1b5f4-3812-4706-930e-4edce148bfca",
   "metadata": {},
   "outputs": [
    {
     "data": {
      "text/plain": [
       "str"
      ]
     },
     "execution_count": 52,
     "metadata": {},
     "output_type": "execute_result"
    }
   ],
   "source": [
    "type(alpha_num[1])"
   ]
  },
  {
   "cell_type": "code",
   "execution_count": 54,
   "id": "3daf2b32-5848-4c07-b16d-5210a89ecdf0",
   "metadata": {},
   "outputs": [
    {
     "data": {
      "text/plain": [
       "int"
      ]
     },
     "execution_count": 54,
     "metadata": {},
     "output_type": "execute_result"
    }
   ],
   "source": [
    "type(alpha_num[0])"
   ]
  },
  {
   "cell_type": "code",
   "execution_count": 78,
   "id": "9fa394ed-06e5-47e9-9fa3-0a5e4f74427a",
   "metadata": {},
   "outputs": [
    {
     "name": "stdout",
     "output_type": "stream",
     "text": [
      "[10, 20, 30, 40]\n"
     ]
    }
   ],
   "source": [
    "my_list = [10, 20, 30, 40]\n",
    "print(my_list)"
   ]
  },
  {
   "cell_type": "code",
   "execution_count": 79,
   "id": "c50781dd-3924-4301-a786-ab77650497b6",
   "metadata": {},
   "outputs": [],
   "source": [
    "my_list.append(25)"
   ]
  },
  {
   "cell_type": "code",
   "execution_count": 80,
   "id": "03784aff-d47b-4830-8636-3a1e973c3ec5",
   "metadata": {},
   "outputs": [
    {
     "name": "stdout",
     "output_type": "stream",
     "text": [
      "[10, 20, 30, 40, 25]\n"
     ]
    }
   ],
   "source": [
    "print(my_list)"
   ]
  },
  {
   "cell_type": "code",
   "execution_count": 81,
   "id": "c6cd4a17-62a8-45cb-ace6-7b33ecdf476d",
   "metadata": {},
   "outputs": [],
   "source": [
    "my_list.remove(30)"
   ]
  },
  {
   "cell_type": "code",
   "execution_count": 82,
   "id": "a7b4fed0-e097-4b16-90a8-e7c70782eaf7",
   "metadata": {},
   "outputs": [
    {
     "name": "stdout",
     "output_type": "stream",
     "text": [
      "[10, 20, 40, 25]\n"
     ]
    }
   ],
   "source": [
    "print(my_list)"
   ]
  },
  {
   "cell_type": "code",
   "execution_count": 83,
   "id": "c6d900f7-42ec-4e0c-8947-2be759aca3eb",
   "metadata": {},
   "outputs": [
    {
     "data": {
      "text/plain": [
       "25"
      ]
     },
     "execution_count": 83,
     "metadata": {},
     "output_type": "execute_result"
    }
   ],
   "source": [
    "my_list.pop()"
   ]
  },
  {
   "cell_type": "code",
   "execution_count": 84,
   "id": "c99bdaa5-1d3c-42ac-86a7-6630f77c7d81",
   "metadata": {},
   "outputs": [
    {
     "name": "stdout",
     "output_type": "stream",
     "text": [
      "[10, 20, 40]\n"
     ]
    }
   ],
   "source": [
    "print(my_list)"
   ]
  },
  {
   "cell_type": "code",
   "execution_count": 85,
   "id": "86af95c4-b90b-421d-8277-647ada77bf3c",
   "metadata": {},
   "outputs": [],
   "source": [
    "my_list.sort()"
   ]
  },
  {
   "cell_type": "code",
   "execution_count": 86,
   "id": "eddffd03-eb5d-43b0-ada7-1695c853a520",
   "metadata": {},
   "outputs": [
    {
     "name": "stdout",
     "output_type": "stream",
     "text": [
      "[10, 20, 40]\n"
     ]
    }
   ],
   "source": [
    "print(my_list)"
   ]
  },
  {
   "cell_type": "markdown",
   "id": "0d680563-43d1-47a0-a915-8a73bc2c22e8",
   "metadata": {},
   "source": [
    "## Tuple"
   ]
  },
  {
   "cell_type": "code",
   "execution_count": 56,
   "id": "a6ce242a-f935-4a63-a319-7c8ec7b2a66a",
   "metadata": {},
   "outputs": [],
   "source": [
    "num_tuple = (1, 2, 3)"
   ]
  },
  {
   "cell_type": "code",
   "execution_count": 57,
   "id": "115a74a7-a847-4876-b207-94d5ef143d69",
   "metadata": {},
   "outputs": [
    {
     "data": {
      "text/plain": [
       "tuple"
      ]
     },
     "execution_count": 57,
     "metadata": {},
     "output_type": "execute_result"
    }
   ],
   "source": [
    "type(num_tuple)"
   ]
  },
  {
   "cell_type": "code",
   "execution_count": 58,
   "id": "9a3369a4-20c8-4375-94af-0c73d96d46f6",
   "metadata": {},
   "outputs": [
    {
     "data": {
      "text/plain": [
       "3"
      ]
     },
     "execution_count": 58,
     "metadata": {},
     "output_type": "execute_result"
    }
   ],
   "source": [
    "num_tuple[2]"
   ]
  },
  {
   "cell_type": "code",
   "execution_count": 59,
   "id": "7ee9271c-9739-4d6f-a343-e58aae117052",
   "metadata": {},
   "outputs": [
    {
     "ename": "TypeError",
     "evalue": "'tuple' object does not support item assignment",
     "output_type": "error",
     "traceback": [
      "\u001b[1;31m---------------------------------------------------------------------------\u001b[0m",
      "\u001b[1;31mTypeError\u001b[0m                                 Traceback (most recent call last)",
      "Cell \u001b[1;32mIn[59], line 1\u001b[0m\n\u001b[1;32m----> 1\u001b[0m num_tuple[\u001b[38;5;241m2\u001b[39m]\u001b[38;5;241m=\u001b[39m\u001b[38;5;241m34\u001b[39m\n",
      "\u001b[1;31mTypeError\u001b[0m: 'tuple' object does not support item assignment"
     ]
    }
   ],
   "source": [
    "num_tuple[2]=34         #tuple does not allow item assignment"
   ]
  },
  {
   "cell_type": "code",
   "execution_count": 60,
   "id": "a82da194-f459-4887-a5f6-90a5c2da4515",
   "metadata": {},
   "outputs": [
    {
     "name": "stdout",
     "output_type": "stream",
     "text": [
      "[10, 12, [1, 2]]\n"
     ]
    }
   ],
   "source": [
    "alpha_num[1] = 12 ##lists allow item assignment\n",
    "print(alpha_num)"
   ]
  },
  {
   "cell_type": "code",
   "execution_count": 1,
   "id": "0dea04b8-42f4-4617-a36a-109c3bfe1ed5",
   "metadata": {},
   "outputs": [
    {
     "name": "stdout",
     "output_type": "stream",
     "text": [
      "range(0, 10)\n"
     ]
    }
   ],
   "source": [
    "a = range(10)\n",
    "print(a)"
   ]
  },
  {
   "cell_type": "code",
   "execution_count": 2,
   "id": "2b01ad67-e8d7-474b-ba30-b8c05925da6d",
   "metadata": {},
   "outputs": [
    {
     "name": "stdout",
     "output_type": "stream",
     "text": [
      "0\n",
      "1\n",
      "2\n",
      "3\n",
      "4\n",
      "5\n",
      "6\n",
      "7\n",
      "8\n",
      "9\n"
     ]
    }
   ],
   "source": [
    "for i in a:\n",
    "    print(i)"
   ]
  },
  {
   "cell_type": "code",
   "execution_count": 3,
   "id": "4a528251-b18e-4a84-9e96-7a3b81ae0235",
   "metadata": {},
   "outputs": [
    {
     "name": "stdout",
     "output_type": "stream",
     "text": [
      "range(0, 10)\n",
      "range(0, 10)\n",
      "range(0, 10)\n",
      "range(0, 10)\n",
      "range(0, 10)\n",
      "range(0, 10)\n",
      "range(0, 10)\n",
      "range(0, 10)\n",
      "range(0, 10)\n",
      "range(0, 10)\n"
     ]
    }
   ],
   "source": [
    "for i in a:\n",
    "    print(a)"
   ]
  },
  {
   "cell_type": "markdown",
   "id": "27dc829b-4562-4d78-ac76-819e82d94a07",
   "metadata": {},
   "source": [
    "## Sets"
   ]
  },
  {
   "cell_type": "code",
   "execution_count": 8,
   "id": "8cb90a86-3344-4bd8-b7e2-58dc2419b75e",
   "metadata": {},
   "outputs": [],
   "source": [
    "set_var = {2, 3, 3, 3, 3}  ##unique variables"
   ]
  },
  {
   "cell_type": "code",
   "execution_count": 7,
   "id": "01ef1925-b539-4cb4-99de-b02bbd8ecf5d",
   "metadata": {},
   "outputs": [
    {
     "name": "stdout",
     "output_type": "stream",
     "text": [
      "{2, 3}\n"
     ]
    }
   ],
   "source": [
    "print(set_var)"
   ]
  },
  {
   "cell_type": "markdown",
   "id": "0c856c85-223c-48b3-bcf4-a022889cae0a",
   "metadata": {},
   "source": [
    "## Frozen set"
   ]
  },
  {
   "cell_type": "code",
   "execution_count": 11,
   "id": "7aa69012-5e3e-4b49-bbda-d80b5c716bc8",
   "metadata": {},
   "outputs": [
    {
     "name": "stdout",
     "output_type": "stream",
     "text": [
      "frozenset({10, 20, 30})\n"
     ]
    }
   ],
   "source": [
    "frozen_set = frozenset([10, 20, 30])\n",
    "print(frozen_set)"
   ]
  },
  {
   "cell_type": "code",
   "execution_count": 12,
   "id": "ff3427f4-4ee2-4a9a-90cb-a86dedfa2e6b",
   "metadata": {},
   "outputs": [
    {
     "ename": "TypeError",
     "evalue": "'frozenset' object does not support item assignment",
     "output_type": "error",
     "traceback": [
      "\u001b[1;31m---------------------------------------------------------------------------\u001b[0m",
      "\u001b[1;31mTypeError\u001b[0m                                 Traceback (most recent call last)",
      "Cell \u001b[1;32mIn[12], line 1\u001b[0m\n\u001b[1;32m----> 1\u001b[0m frozen_set[\u001b[38;5;241m1\u001b[39m]\u001b[38;5;241m=\u001b[39m\u001b[38;5;241m2\u001b[39m\n\u001b[0;32m      2\u001b[0m \u001b[38;5;28mprint\u001b[39m(frozen_set)\n",
      "\u001b[1;31mTypeError\u001b[0m: 'frozenset' object does not support item assignment"
     ]
    }
   ],
   "source": [
    "frozen_set[1]=2                 ##frozen set does not support item assignment(immutable)\n",
    "print(frozen_set)"
   ]
  },
  {
   "cell_type": "markdown",
   "id": "b3d43802-bb5d-480e-af46-345d8c1db2e4",
   "metadata": {},
   "source": [
    "## Dictionary Data Type"
   ]
  },
  {
   "cell_type": "code",
   "execution_count": null,
   "id": "9a9cb823-329e-4dbc-84c2-0e42a641b597",
   "metadata": {},
   "outputs": [],
   "source": [
    "## key value pairs"
   ]
  },
  {
   "cell_type": "code",
   "execution_count": 18,
   "id": "98cbf429-e527-4c28-ba6c-48ae65169d27",
   "metadata": {},
   "outputs": [],
   "source": [
    "p_dictionary = {                             ##index 0 = a..\n",
    "    \"a\": 1,\n",
    "    \"b\": \"Akash Chandra\",\n",
    "    \"c\": [1,2,3,4,4],\n",
    "    \"d\": {\"pi\":\"Person1\", \"p2\":\"Person2\"}\n",
    "}"
   ]
  },
  {
   "cell_type": "code",
   "execution_count": 19,
   "id": "60dd0f2a-9e20-42ea-b7c5-76f4d7581bd6",
   "metadata": {},
   "outputs": [
    {
     "data": {
      "text/plain": [
       "1"
      ]
     },
     "execution_count": 19,
     "metadata": {},
     "output_type": "execute_result"
    }
   ],
   "source": [
    "p_dictionary[\"a\"]"
   ]
  },
  {
   "cell_type": "code",
   "execution_count": 20,
   "id": "ffd0f0b9-2cdd-4821-b20e-913fd65d4d8b",
   "metadata": {},
   "outputs": [
    {
     "data": {
      "text/plain": [
       "{'pi': 'Person1', 'p2': 'Person2'}"
      ]
     },
     "execution_count": 20,
     "metadata": {},
     "output_type": "execute_result"
    }
   ],
   "source": [
    "p_dictionary[\"d\"]"
   ]
  },
  {
   "cell_type": "code",
   "execution_count": 21,
   "id": "17ab13be-5380-450b-9852-4fa07f83dee5",
   "metadata": {},
   "outputs": [
    {
     "data": {
      "text/plain": [
       "'Person2'"
      ]
     },
     "execution_count": 21,
     "metadata": {},
     "output_type": "execute_result"
    }
   ],
   "source": [
    " p_dictionary[\"d\"][\"p2\"]"
   ]
  },
  {
   "cell_type": "code",
   "execution_count": 24,
   "id": "39be275c-c606-4d8f-bb90-8c9a611f8bf3",
   "metadata": {},
   "outputs": [
    {
     "data": {
      "text/plain": [
       "{'name': 'John', 'age': 21, 'address': 'NY'}"
      ]
     },
     "execution_count": 24,
     "metadata": {},
     "output_type": "execute_result"
    }
   ],
   "source": [
    "web_payload = {\n",
    "    \"name\": \"John\",\n",
    "    \"age\": 21,\n",
    "    \"address\": \"NY\"\n",
    "}\n",
    "web_payload"
   ]
  },
  {
   "cell_type": "markdown",
   "id": "c0d2ac00-b4d9-407f-a314-8078b1c8b349",
   "metadata": {},
   "source": [
    "## Boolean Data Type"
   ]
  },
  {
   "cell_type": "code",
   "execution_count": 26,
   "id": "5d75df4b-b273-403d-8d78-3884f01230ce",
   "metadata": {},
   "outputs": [
    {
     "data": {
      "text/plain": [
       "bool"
      ]
     },
     "execution_count": 26,
     "metadata": {},
     "output_type": "execute_result"
    }
   ],
   "source": [
    "a = True\n",
    "b = False\n",
    "type(a)"
   ]
  },
  {
   "cell_type": "code",
   "execution_count": 27,
   "id": "2cd6b9e9-3409-4679-9b8b-823af19bea09",
   "metadata": {},
   "outputs": [
    {
     "data": {
      "text/plain": [
       "bool"
      ]
     },
     "execution_count": 27,
     "metadata": {},
     "output_type": "execute_result"
    }
   ],
   "source": [
    "type(b)"
   ]
  },
  {
   "cell_type": "code",
   "execution_count": 28,
   "id": "cdadb695-f800-4a17-a525-2e084f90b8fd",
   "metadata": {},
   "outputs": [
    {
     "name": "stdout",
     "output_type": "stream",
     "text": [
      "True\n"
     ]
    }
   ],
   "source": [
    "print(a)"
   ]
  },
  {
   "cell_type": "code",
   "execution_count": 29,
   "id": "2590ef62-8d34-4520-a5c3-1c9490be3cb7",
   "metadata": {},
   "outputs": [
    {
     "name": "stdout",
     "output_type": "stream",
     "text": [
      "False\n"
     ]
    }
   ],
   "source": [
    "print(b)"
   ]
  },
  {
   "cell_type": "markdown",
   "id": "a6e85e03-2885-4f2d-b60d-442d6eb316e5",
   "metadata": {},
   "source": [
    "## None Data type"
   ]
  },
  {
   "cell_type": "code",
   "execution_count": 31,
   "id": "58058be8-c081-4d2b-a2c5-696e1ee3ec55",
   "metadata": {},
   "outputs": [
    {
     "data": {
      "text/plain": [
       "NoneType"
      ]
     },
     "execution_count": 31,
     "metadata": {},
     "output_type": "execute_result"
    }
   ],
   "source": [
    "a = None\n",
    "type(a)"
   ]
  },
  {
   "cell_type": "markdown",
   "id": "0343dd21-7524-40e5-9234-39dee4a423f1",
   "metadata": {},
   "source": [
    "## Implicit Type declaration"
   ]
  },
  {
   "cell_type": "code",
   "execution_count": 33,
   "id": "6d1124b9-dfbc-4551-8f41-c7b1e07e4058",
   "metadata": {},
   "outputs": [
    {
     "name": "stdout",
     "output_type": "stream",
     "text": [
      "7.5 <class 'float'>\n"
     ]
    }
   ],
   "source": [
    "x = 5 #int\n",
    "y = 2.5 #float\n",
    "z = x + y\n",
    "print(z,type(z))"
   ]
  },
  {
   "cell_type": "markdown",
   "id": "0c8b23fb-34d6-443f-b0d0-2115162cdd7d",
   "metadata": {},
   "source": [
    "## Explicit Type Declaration"
   ]
  },
  {
   "cell_type": "code",
   "execution_count": 34,
   "id": "a47510f7-a223-45fb-a29c-1a50f9c0d010",
   "metadata": {},
   "outputs": [
    {
     "data": {
      "text/plain": [
       "int"
      ]
     },
     "execution_count": 34,
     "metadata": {},
     "output_type": "execute_result"
    }
   ],
   "source": [
    "a = int(\"10\") #string to int\n",
    "b = float(5)  #int to float\n",
    "c = str(100) #int to string\n",
    "type(a)"
   ]
  },
  {
   "cell_type": "code",
   "execution_count": 35,
   "id": "1a95537a-2c82-4106-a567-dc944bfa6b06",
   "metadata": {},
   "outputs": [
    {
     "data": {
      "text/plain": [
       "float"
      ]
     },
     "execution_count": 35,
     "metadata": {},
     "output_type": "execute_result"
    }
   ],
   "source": [
    "type(b)"
   ]
  },
  {
   "cell_type": "code",
   "execution_count": 36,
   "id": "392e6780-bcb6-4d8b-9d2a-b922b726577b",
   "metadata": {},
   "outputs": [
    {
     "data": {
      "text/plain": [
       "str"
      ]
     },
     "execution_count": 36,
     "metadata": {},
     "output_type": "execute_result"
    }
   ],
   "source": [
    "type(c)"
   ]
  },
  {
   "cell_type": "code",
   "execution_count": 37,
   "id": "50c58cae-5bd1-454f-9f1b-fffc2be8b868",
   "metadata": {},
   "outputs": [
    {
     "ename": "TypeError",
     "evalue": "unsupported operand type(s) for +: 'int' and 'str'",
     "output_type": "error",
     "traceback": [
      "\u001b[1;31m---------------------------------------------------------------------------\u001b[0m",
      "\u001b[1;31mTypeError\u001b[0m                                 Traceback (most recent call last)",
      "Cell \u001b[1;32mIn[37], line 3\u001b[0m\n\u001b[0;32m      1\u001b[0m c \u001b[38;5;241m=\u001b[39m \u001b[38;5;241m100\u001b[39m\n\u001b[0;32m      2\u001b[0m c1 \u001b[38;5;241m=\u001b[39m \u001b[38;5;28mstr\u001b[39m(\u001b[38;5;241m100\u001b[39m)\n\u001b[1;32m----> 3\u001b[0m d \u001b[38;5;241m=\u001b[39m c \u001b[38;5;241m+\u001b[39m c1\n",
      "\u001b[1;31mTypeError\u001b[0m: unsupported operand type(s) for +: 'int' and 'str'"
     ]
    }
   ],
   "source": [
    "c = 100\n",
    "c1 = str(100)\n",
    "d = c + c1"
   ]
  },
  {
   "cell_type": "code",
   "execution_count": 38,
   "id": "b19b71af-e682-415b-8297-4f9088489c62",
   "metadata": {},
   "outputs": [
    {
     "data": {
      "text/plain": [
       "'100'"
      ]
     },
     "execution_count": 38,
     "metadata": {},
     "output_type": "execute_result"
    }
   ],
   "source": [
    "c1"
   ]
  },
  {
   "cell_type": "code",
   "execution_count": 39,
   "id": "28294130-3114-4b40-ae6e-dcbb72788926",
   "metadata": {},
   "outputs": [
    {
     "data": {
      "text/plain": [
       "100"
      ]
     },
     "execution_count": 39,
     "metadata": {},
     "output_type": "execute_result"
    }
   ],
   "source": [
    "c"
   ]
  },
  {
   "cell_type": "markdown",
   "id": "c000acd0-0b38-45bb-aad2-bb5610053da7",
   "metadata": {},
   "source": [
    "## Asking for input"
   ]
  },
  {
   "cell_type": "code",
   "execution_count": 41,
   "id": "65070de8-dcb6-4103-a666-e3e8a5702276",
   "metadata": {},
   "outputs": [
    {
     "name": "stdin",
     "output_type": "stream",
     "text": [
      "Tell me your name... Anny\n"
     ]
    },
    {
     "name": "stdout",
     "output_type": "stream",
     "text": [
      "My user's name is Anny\n"
     ]
    }
   ],
   "source": [
    "user_name = input(\"Tell me your name...\")\n",
    "print(\"My user's name is \" + user_name)"
   ]
  },
  {
   "cell_type": "code",
   "execution_count": 42,
   "id": "767345ae-2afa-496e-be5e-5e0f4ad2c9a8",
   "metadata": {},
   "outputs": [
    {
     "name": "stdin",
     "output_type": "stream",
     "text": [
      "Which number's factorial do you want ? 4\n"
     ]
    },
    {
     "name": "stdout",
     "output_type": "stream",
     "text": [
      "Number: 4\n"
     ]
    }
   ],
   "source": [
    "factorial_number = input(\"Which number's factorial do you want ?\")\n",
    "print(\"Number: \" + factorial_number)"
   ]
  },
  {
   "cell_type": "code",
   "execution_count": 43,
   "id": "441e2d87-1a6d-47cd-ad91-0839e858f246",
   "metadata": {},
   "outputs": [
    {
     "name": "stdout",
     "output_type": "stream",
     "text": [
      "My name is Akash Chandra\n"
     ]
    }
   ],
   "source": [
    "name = \"Akash Chandra\"\n",
    "print(\"My name is \" + name)"
   ]
  },
  {
   "cell_type": "code",
   "execution_count": 45,
   "id": "a0a2ee12-95ab-47ef-95e1-1471280e47b5",
   "metadata": {},
   "outputs": [
    {
     "name": "stdout",
     "output_type": "stream",
     "text": [
      "My name is Akash Chandra\n"
     ]
    }
   ],
   "source": [
    "print(f\"My name is {name}\")"
   ]
  },
  {
   "cell_type": "code",
   "execution_count": 48,
   "id": "6fec54cd-e9ab-40fb-82dd-29c0a0fdc04a",
   "metadata": {},
   "outputs": [],
   "source": [
    "age = 30\n"
   ]
  },
  {
   "cell_type": "code",
   "execution_count": 49,
   "id": "71935d75-63f8-4deb-bb2e-9a4b0ec7518d",
   "metadata": {},
   "outputs": [],
   "source": [
    "address = \"Delhi\""
   ]
  },
  {
   "cell_type": "code",
   "execution_count": 50,
   "id": "0798e87d-6a5e-4032-8515-d4b023fba9c6",
   "metadata": {},
   "outputs": [
    {
     "name": "stdout",
     "output_type": "stream",
     "text": [
      "My name is Akash Chandra, age is 30 and location is Delhi\n"
     ]
    }
   ],
   "source": [
    "print(f\"My name is {name}, age is {age} and location is {address}\")"
   ]
  },
  {
   "cell_type": "code",
   "execution_count": 53,
   "id": "02abaf00-810c-48ad-8357-946bc79b5905",
   "metadata": {},
   "outputs": [
    {
     "name": "stdout",
     "output_type": "stream",
     "text": [
      "My name is Akash Chandra\n",
      " age is 30 and location is Delhi\n"
     ]
    }
   ],
   "source": [
    "print(f\"My name is {name}\\n age is {age} and location is {address}\")"
   ]
  },
  {
   "cell_type": "markdown",
   "id": "fed4c45e-0897-4498-9542-0fd907c30761",
   "metadata": {},
   "source": [
    "## Using sorting in python"
   ]
  },
  {
   "cell_type": "code",
   "execution_count": 87,
   "id": "88a39901-9383-46d8-af55-1e3233fc8c9a",
   "metadata": {},
   "outputs": [
    {
     "name": "stdout",
     "output_type": "stream",
     "text": [
      "[1, 2, 3, 4]\n"
     ]
    }
   ],
   "source": [
    "a = [1, 2, 3, 4]\n",
    "b = [4, 6, 2, 1]\n",
    "print(a)"
   ]
  },
  {
   "cell_type": "code",
   "execution_count": 88,
   "id": "3d11cf29-2111-426a-9926-1499fdbc1621",
   "metadata": {},
   "outputs": [
    {
     "name": "stdout",
     "output_type": "stream",
     "text": [
      "[4, 6, 2, 1]\n"
     ]
    }
   ],
   "source": [
    "print(b)"
   ]
  },
  {
   "cell_type": "code",
   "execution_count": 89,
   "id": "98bd0def-e505-4230-94fd-762dbe4277fb",
   "metadata": {},
   "outputs": [],
   "source": [
    "b.sort()"
   ]
  },
  {
   "cell_type": "code",
   "execution_count": 90,
   "id": "8c8c54dc-a474-4d0d-8a49-61716ffab9ad",
   "metadata": {},
   "outputs": [
    {
     "name": "stdout",
     "output_type": "stream",
     "text": [
      "[1, 2, 4, 6]\n"
     ]
    }
   ],
   "source": [
    "print(b)"
   ]
  },
  {
   "cell_type": "code",
   "execution_count": 92,
   "id": "b7c2c0ea-44ca-4a0d-ad30-f6bb3c8edc8e",
   "metadata": {},
   "outputs": [],
   "source": [
    "name_list = [\"Naman\", \"Pankaj\", \"Akash\", \"xmas\"]\n",
    "name_list.sort()"
   ]
  },
  {
   "cell_type": "code",
   "execution_count": 93,
   "id": "a9d9a9e5-81b9-4770-9549-6e98f014ed38",
   "metadata": {},
   "outputs": [
    {
     "name": "stdout",
     "output_type": "stream",
     "text": [
      "['Akash', 'Naman', 'Pankaj', 'xmas']\n"
     ]
    }
   ],
   "source": [
    "print(name_list)"
   ]
  },
  {
   "cell_type": "code",
   "execution_count": 94,
   "id": "27c0eeaa-6130-4760-b0d9-c262ee740c25",
   "metadata": {},
   "outputs": [
    {
     "name": "stdout",
     "output_type": "stream",
     "text": [
      "1\n"
     ]
    }
   ],
   "source": [
    "my_tuple = (1, 2, 3)\n",
    "print(my_tuple[0])"
   ]
  },
  {
   "cell_type": "code",
   "execution_count": 95,
   "id": "f4d5d54c-3f54-49b7-97a4-392ca52fe58c",
   "metadata": {},
   "outputs": [],
   "source": [
    "my_set = {1,2,3, 4}\n",
    "my_set.add(5)"
   ]
  },
  {
   "cell_type": "code",
   "execution_count": 96,
   "id": "3b8a09af-971d-4704-be50-f6f3a906ee3e",
   "metadata": {},
   "outputs": [
    {
     "name": "stdout",
     "output_type": "stream",
     "text": [
      "{1, 2, 3, 4, 5}\n"
     ]
    }
   ],
   "source": [
    "print(my_set)"
   ]
  },
  {
   "cell_type": "code",
   "execution_count": null,
   "id": "65f42ae0-a2ac-4ad9-83d3-034a1eb3295d",
   "metadata": {},
   "outputs": [],
   "source": [
    "my_set.add(5)"
   ]
  },
  {
   "cell_type": "code",
   "execution_count": 97,
   "id": "67926891-82f5-4b4e-abf3-556c086bc4a2",
   "metadata": {},
   "outputs": [
    {
     "name": "stdout",
     "output_type": "stream",
     "text": [
      "{1, 2, 3, 4, 5}\n"
     ]
    }
   ],
   "source": [
    "print(my_set)           ##won't add the existing number once again as it only contains unique values"
   ]
  },
  {
   "cell_type": "code",
   "execution_count": 98,
   "id": "c359cadd-07c6-4ad6-9337-e85f338b20c3",
   "metadata": {},
   "outputs": [
    {
     "name": "stdout",
     "output_type": "stream",
     "text": [
      "Alice\n"
     ]
    }
   ],
   "source": [
    "my_dict = {\"name\":\"Alice\", \"age\":25}\n",
    "print(my_dict[\"name\"])"
   ]
  },
  {
   "cell_type": "markdown",
   "id": "8df06208-5844-4389-a543-46f212250fe6",
   "metadata": {},
   "source": [
    "## Functions in python "
   ]
  },
  {
   "cell_type": "code",
   "execution_count": 100,
   "id": "3abf5133-33d9-4bef-83ed-b6381227ab6f",
   "metadata": {},
   "outputs": [
    {
     "name": "stdout",
     "output_type": "stream",
     "text": [
      "My name is Akash Chandra\n"
     ]
    }
   ],
   "source": [
    "name = \"Akash Chandra\"\n",
    "print(f\"My name is {name}\")"
   ]
  },
  {
   "cell_type": "code",
   "execution_count": 101,
   "id": "5afc819e-1fa0-4cd6-ae06-68129b7b22e9",
   "metadata": {},
   "outputs": [],
   "source": [
    "def naming(name):\n",
    "    print(f\"My name is {name}\")"
   ]
  },
  {
   "cell_type": "code",
   "execution_count": 102,
   "id": "e585e12a-0f9a-4f40-81ea-9f0012e2bfbd",
   "metadata": {},
   "outputs": [
    {
     "name": "stdout",
     "output_type": "stream",
     "text": [
      "My name is Pankaj\n"
     ]
    }
   ],
   "source": [
    "naming(\"Pankaj\")"
   ]
  }
 ],
 "metadata": {
  "kernelspec": {
   "display_name": "Python 3 (ipykernel)",
   "language": "python",
   "name": "python3"
  },
  "language_info": {
   "codemirror_mode": {
    "name": "ipython",
    "version": 3
   },
   "file_extension": ".py",
   "mimetype": "text/x-python",
   "name": "python",
   "nbconvert_exporter": "python",
   "pygments_lexer": "ipython3",
   "version": "3.13.5"
  }
 },
 "nbformat": 4,
 "nbformat_minor": 5
}
